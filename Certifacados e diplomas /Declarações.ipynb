{
 "cells": [
  {
   "cell_type": "markdown",
   "metadata": {},
   "source": [
    "Esse repositório destaca a evolução da minha história acadêmica ao longo dos anos, desde sua fundação até seu papel na promoção de práticas de desenvolvimento colaborativo e educação na comunidade de tecnologia. "
   ]
  }
 ],
 "metadata": {
  "language_info": {
   "name": "python"
  }
 },
 "nbformat": 4,
 "nbformat_minor": 2
}
